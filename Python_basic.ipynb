{
  "nbformat": 4,
  "nbformat_minor": 0,
  "metadata": {
    "colab": {
      "provenance": []
    },
    "kernelspec": {
      "name": "python3",
      "display_name": "Python 3"
    },
    "language_info": {
      "name": "python"
    }
  },
  "cells": [
    {
      "cell_type": "code",
      "execution_count": null,
      "metadata": {
        "id": "J0EkdQmcbscA"
      },
      "outputs": [],
      "source": []
    },
    {
      "cell_type": "markdown",
      "source": [
        "Python Basics\n"
      ],
      "metadata": {
        "id": "NKsbaXiRcgZo"
      }
    },
    {
      "cell_type": "markdown",
      "source": [
        "  1.  What is Python, and why is it popular ?\n",
        "    - Python is a general purpose programming language that is popular for its versatility, felexibility , and ease of use . It is used for a wide range of applications , including\n",
        "\n",
        "\n",
        "\n"
      ],
      "metadata": {
        "id": "bbQki772cxSv"
      }
    },
    {
      "cell_type": "markdown",
      "source": [
        " 2. What is an interpreter in Python ?\n",
        "   - A paython interpreter is a computer program that converts each highe level program statement into machin code ."
      ],
      "metadata": {
        "id": "hGBiLDpbicMI"
      }
    },
    {
      "cell_type": "markdown",
      "source": [
        " 3. What are pre-defined keywords in Python ?\n",
        "   - A keyword refer to a pre defined words that python reserves for working programs that have a specific meaning ."
      ],
      "metadata": {
        "id": "Fvv9xQGxjJLD"
      }
    },
    {
      "cell_type": "markdown",
      "source": [
        "4.  Can keywords be used as variable names ?\n",
        "   - No a keyword cannot be used as a variable name .\n",
        "   "
      ],
      "metadata": {
        "id": "7HtFJCFMkj6T"
      }
    },
    {
      "cell_type": "markdown",
      "source": [
        " 5. What is mutability in Python ?\n",
        "   - Mutability refer to the ability to change an object value or state after it has been created."
      ],
      "metadata": {
        "id": "pen3rsdIlupA"
      }
    },
    {
      "cell_type": "markdown",
      "source": [
        " 6. Why are lists mutable, but tuples are immutable .\n",
        "   - Tuples and list are the same in every way except two : tuples use parenthes insted of square brackets , and the items in tuples cannot be modified."
      ],
      "metadata": {
        "id": "6dRJXTJcmRO_"
      }
    },
    {
      "cell_type": "markdown",
      "source": [
        " 7. What is the difference between “==” and “is” operators in Python .\n",
        "  - The == operator is used to compare the wquality of objects . the is operator is used to check if different variables are pointing to the same object in memory ."
      ],
      "metadata": {
        "id": "qJ9f3vGZnsd3"
      }
    },
    {
      "cell_type": "markdown",
      "source": [
        " 8.  What are logical operators in Python ?\n",
        "   - Logical operators are symbols or words that connect two or more expression to produce a boolean value , either true or false ."
      ],
      "metadata": {
        "id": "pN5lq-k-pxBn"
      }
    },
    {
      "cell_type": "markdown",
      "source": [
        " 9. What is type casting in Python ?\n",
        "  - Type casting in python is the process of converting a variable date type to another date type ."
      ],
      "metadata": {
        "id": "ZIR_M1Ejqv6L"
      }
    },
    {
      "cell_type": "markdown",
      "source": [
        " 10.  What is the difference between implicit and explicit type casting ?\n",
        "   - The main difference between implicit and explicit type casting is that implicit is automatic, while explicit type casting is manual ."
      ],
      "metadata": {
        "id": "KGoKIfG6rd5D"
      }
    },
    {
      "cell_type": "markdown",
      "source": [
        " 11.  What is the purpose of conditional statements in Python ?\n",
        "   - Conditional statements , also know as cntrol flow atatements are used in python to make decison based on specific condition ."
      ],
      "metadata": {
        "id": "Ze5OjscasVbt"
      }
    },
    {
      "cell_type": "markdown",
      "source": [
        " 12.  How does the elif statement work ?\n",
        "   - elif is short for ' else if ' and is used when the first if statement isn't true , but you want to check for another condition . if statement pair up with elif and else statement to preform a series of check"
      ],
      "metadata": {
        "id": "z9zf9IaiuzmE"
      }
    },
    {
      "cell_type": "markdown",
      "source": [
        " 13.  What is the difference between for and while loops ?\n",
        "   - the main difference between a for loop is that a for loop is used when you know the number of iterations is advance while a while loop is used when you don't"
      ],
      "metadata": {
        "id": "LdVknZejvuU1"
      }
    },
    {
      "cell_type": "markdown",
      "source": [
        " 14.  Describe a scenario where a while loop is more suitable than a for loop.\n",
        "   - Use a for loop when you know the loop should execute n times."
      ],
      "metadata": {
        "id": "OlWxmxu90JXq"
      }
    },
    {
      "cell_type": "markdown",
      "source": [
        "Practical question"
      ],
      "metadata": {
        "id": "HdbaisOx0oPi"
      }
    },
    {
      "cell_type": "markdown",
      "source": [
        " 1.  Write a Python program to print \"Hello, World!_\n"
      ],
      "metadata": {
        "id": "bBpKeReU0zhx"
      }
    },
    {
      "cell_type": "code",
      "source": [
        "print(\"hello world\")"
      ],
      "metadata": {
        "colab": {
          "base_uri": "https://localhost:8080/"
        },
        "id": "jhpBN8W705vv",
        "outputId": "ee895f35-4d86-4293-a0a6-874311854379"
      },
      "execution_count": null,
      "outputs": [
        {
          "output_type": "stream",
          "name": "stdout",
          "text": [
            "hello world\n"
          ]
        }
      ]
    },
    {
      "cell_type": "markdown",
      "source": [
        "2. Write a Python program that displays your name and age ?\n",
        "\n"
      ],
      "metadata": {
        "id": "m6wm-E2i1jzQ"
      }
    },
    {
      "cell_type": "code",
      "source": [
        "from os import name\n",
        "print(\"chhavi\")\n",
        "print(\"23\")"
      ],
      "metadata": {
        "colab": {
          "base_uri": "https://localhost:8080/"
        },
        "id": "AQ_j3aOY1tOW",
        "outputId": "40753aa7-7caa-4deb-ac08-77e5c01a03c0"
      },
      "execution_count": null,
      "outputs": [
        {
          "output_type": "stream",
          "name": "stdout",
          "text": [
            "chhavi\n",
            "23\n"
          ]
        }
      ]
    },
    {
      "cell_type": "markdown",
      "source": [
        " 3. Write code to print all the pre-defined keywords in Python using the keyword library ?"
      ],
      "metadata": {
        "id": "gbb6sj5n2w6C"
      }
    },
    {
      "cell_type": "code",
      "source": [
        "import keyword\n",
        "\n",
        "# printing all keywords at once using \"kwlist()\"\n",
        "print(\"the list of keywords is :\")\n",
        "print(keyword.kwlist)"
      ],
      "metadata": {
        "colab": {
          "base_uri": "https://localhost:8080/"
        },
        "id": "v7Rtec0r4kP_",
        "outputId": "f26695b0-8909-4651-b5ff-27518ee49508"
      },
      "execution_count": null,
      "outputs": [
        {
          "output_type": "stream",
          "name": "stdout",
          "text": [
            "the list of keywords is :\n",
            "['False', 'None', 'True', 'and', 'as', 'assert', 'async', 'await', 'break', 'class', 'continue', 'def', 'del', 'elif', 'else', 'except', 'finally', 'for', 'from', 'global', 'if', 'import', 'in', 'is', 'lambda', 'nonlocal', 'not', 'or', 'pass', 'raise', 'return', 'try', 'while', 'with', 'yield']\n"
          ]
        }
      ]
    },
    {
      "cell_type": "markdown",
      "source": [
        " 4. Write a program that checks if a given word is a Python keyword ?"
      ],
      "metadata": {
        "id": "9oqxY2_k5fcQ"
      }
    },
    {
      "cell_type": "code",
      "source": [
        "# import keyword library\n",
        "import keyword\n",
        "\n",
        "keyword_list = keyword.kwlist\n",
        "print(\"no. of keyword present in current version :\")\n",
        "len(keyword_list)\n",
        "print(keyword_list)"
      ],
      "metadata": {
        "colab": {
          "base_uri": "https://localhost:8080/"
        },
        "id": "MgDoSti35oMc",
        "outputId": "ca4072ad-10c6-4f4f-eb2f-dc18b3fed9e2"
      },
      "execution_count": null,
      "outputs": [
        {
          "output_type": "stream",
          "name": "stdout",
          "text": [
            "no. of keyword present in current version :\n",
            "['False', 'None', 'True', 'and', 'as', 'assert', 'async', 'await', 'break', 'class', 'continue', 'def', 'del', 'elif', 'else', 'except', 'finally', 'for', 'from', 'global', 'if', 'import', 'in', 'is', 'lambda', 'nonlocal', 'not', 'or', 'pass', 'raise', 'return', 'try', 'while', 'with', 'yield']\n"
          ]
        }
      ]
    },
    {
      "cell_type": "markdown",
      "source": [
        " 5. Create a list and tuple in Python, and demonstrate how attempting to change an element works differently\n",
        "for each?"
      ],
      "metadata": {
        "id": "aRcUFuB37AnA"
      }
    },
    {
      "cell_type": "code",
      "source": [
        "my_list = [1, 2, 3]\n",
        "\n",
        "my_tuple = (1, 2, 3)\n",
        "\n",
        "print(\"original list:\" , my_list)\n",
        "\n",
        "print(\"modified list:\" , my_list)\n",
        "\n",
        "print(\"\\noriginal tuple:\" , my_tuple)\n",
        "try:\n",
        "  my_tuple[1] = 99\n",
        "except TypeError as e:\n",
        "  print(\"error while modifying tuple:\", e)"
      ],
      "metadata": {
        "colab": {
          "base_uri": "https://localhost:8080/"
        },
        "id": "ZjY-8TiNPejc",
        "outputId": "b5101155-febd-4f71-8d9f-12ca60e885b1"
      },
      "execution_count": null,
      "outputs": [
        {
          "output_type": "stream",
          "name": "stdout",
          "text": [
            "original list: [1, 2, 3]\n",
            "modified list: [1, 2, 3]\n",
            "\n",
            "original tuple: (1, 2, 3)\n",
            "error while modifying tuple: 'tuple' object does not support item assignment\n"
          ]
        }
      ]
    },
    {
      "cell_type": "markdown",
      "source": [
        " 6. Write a function to demonstrate the behavior of mutable and immutable arguments"
      ],
      "metadata": {
        "id": "hY5W54FTR2EI"
      }
    },
    {
      "cell_type": "code",
      "source": [
        "def demonstrate_mutable_immutable(mutable_arg, immutable_arg):\n",
        "    # Modify the mutable argument (list)\n",
        "    print(f\"Before modifying mutable_arg: {mutable_arg}\")\n",
        "    mutable_arg.append(100)\n",
        "    print(f\"After modifying mutable_arg: {mutable_arg}\")\n",
        "\n",
        "    # Try modifying the immutable argument (int)\n",
        "    print(f\"Before modifying immutable_arg: {immutable_arg}\")\n",
        "    immutable_arg += 10  # This creates a new integer, it doesn't modify the original\n",
        "    print(f\"After modifying immutable_arg: {immutable_arg}\")\n",
        "\n",
        "    # Show that the changes to the mutable argument persist outside the function\n",
        "    # while the changes to the immutable argument do not.\n",
        "    print(\"\\nFinal values outside the function:\")\n",
        "    print(f\"mutable_arg outside the function: {mutable_arg}\")\n",
        "    print(f\"immutable_arg outside the function: {immutable_arg}\")\n",
        "\n",
        "# Example usage\n",
        "my_list = [1, 2, 3]\n",
        "my_int = 5\n",
        "\n",
        "demonstrate_mutable_immutable(my_list, my_int)\n"
      ],
      "metadata": {
        "colab": {
          "base_uri": "https://localhost:8080/"
        },
        "id": "ltA5ucU0SBnW",
        "outputId": "cbe153e2-49e2-4585-ad95-59a7f2848b38"
      },
      "execution_count": null,
      "outputs": [
        {
          "output_type": "stream",
          "name": "stdout",
          "text": [
            "Before modifying mutable_arg: [1, 2, 3]\n",
            "After modifying mutable_arg: [1, 2, 3, 100]\n",
            "Before modifying immutable_arg: 5\n",
            "After modifying immutable_arg: 15\n",
            "\n",
            "Final values outside the function:\n",
            "mutable_arg outside the function: [1, 2, 3, 100]\n",
            "immutable_arg outside the function: 15\n"
          ]
        }
      ]
    },
    {
      "cell_type": "markdown",
      "source": [
        " 7.  Write a function to demonstrate the behavior of mutable and immutable arguments"
      ],
      "metadata": {
        "id": "bcaYLdhvV8y2"
      }
    },
    {
      "cell_type": "code",
      "source": [
        "def demonstrate_mutability():\n",
        "    # Immutable Argument (int)\n",
        "    def modify_immutable(x):\n",
        "        print(f\"Before modification, x = {x}\")\n",
        "        x = 10  # Changing the value of x\n",
        "        print(f\"After modification, x = {x}\")\n",
        "\n",
        "    # Mutable Argument (list)\n",
        "    def modify_mutable(lst):\n",
        "        print(f\"Before modification, lst = {lst}\")\n",
        "        lst.append(4)  # Adding an element to the list (modifying the list in place)\n",
        "        print(f\"After modification, lst = {lst}\")\n",
        "\n",
        "    # Immutable example\n",
        "    num = 5\n",
        "    print(\"Mutable and Immutable Behavior Example - Immutable Argument:\")\n",
        "    modify_immutable(num)\n",
        "    print(f\"After calling modify_immutable, num = {num}\")  # num should still be 5 because integers are immutable\n",
        "\n",
        "    print(\"\\nMutable Argument Behavior Example:\")\n",
        "    my_list = [1, 2, 3]\n",
        "    modify_mutable(my_list)\n",
        "    print(f\"After calling modify_mutable, my_list = {my_list}\")  # my_list is modified because lists are mutable\n",
        "\n",
        "# Call the function to see the behavior\n",
        "demonstrate_mutability()\n"
      ],
      "metadata": {
        "id": "KcV0aGlhWC3c",
        "colab": {
          "base_uri": "https://localhost:8080/"
        },
        "outputId": "1eb96f68-f1c4-4619-950e-c76ef048e6b5"
      },
      "execution_count": null,
      "outputs": [
        {
          "output_type": "stream",
          "name": "stdout",
          "text": [
            "Mutable and Immutable Behavior Example - Immutable Argument:\n",
            "Before modification, x = 5\n",
            "After modification, x = 10\n",
            "After calling modify_immutable, num = 5\n",
            "\n",
            "Mutable Argument Behavior Example:\n",
            "Before modification, lst = [1, 2, 3]\n",
            "After modification, lst = [1, 2, 3, 4]\n",
            "After calling modify_mutable, my_list = [1, 2, 3, 4]\n"
          ]
        }
      ]
    },
    {
      "cell_type": "markdown",
      "source": [
        "8. Write a program to demonstrate the use of logical operators\n"
      ],
      "metadata": {
        "id": "1HWqOUGl3hJl"
      }
    },
    {
      "cell_type": "code",
      "source": [
        "def demonstrate_logical_operators():\n",
        "    # Variables for demonstration\n",
        "    a = True\n",
        "    b = False\n",
        "    c = 10\n",
        "    d = 5\n",
        "\n",
        "    print(\"Logical Operators Demonstration\\n\")\n",
        "\n",
        "    # Using 'and' operator\n",
        "    print(f\"a = {a}, b = {b}\")\n",
        "    print(f\"a and b = {a and b}\")  # Both must be True for result to be True\n",
        "    print(f\"c > d and a = {c > d and a}\")  # True because both conditions are True\n",
        "    print(f\"c < d and a = {c < d and a}\")  # False because c < d is False\n",
        "    print()\n",
        "\n",
        "    # Using 'or' operator\n",
        "    print(f\"a = {a}, b = {b}\")\n",
        "    print(f\"a or b = {a or b}\")  # True if at least one is True\n",
        "    print(f\"c < d or b = {c < d or b}\")  # True because c < d is False, but b is False too\n",
        "    print(f\"c > d or b = {c > d or b}\")  # True because c > d is True\n",
        "    print()\n",
        "\n",
        "    # Using 'not' operator\n",
        "    print(f\"a = {a}, b = {b}\")\n",
        "    print(f\"not a = {not a}\")  # Inverts the value of a, so False\n",
        "    print(f\"not b = {not b}\")  # Inverts the value of b, so True\n",
        "    print()\n",
        "\n",
        "    # Combining all operators\n",
        "    print(f\"c > d and (a or b) = {c > d and (a or b)}\")  # True because c > d is True, and a or b is True\n",
        "    print(f\"not (c < d or b) = {not (c < d or b)}\")  # Inverts the whole expression, which is True\n",
        "\n",
        "# Call the function to see the behavior\n",
        "demonstrate_logical_operators()\n"
      ],
      "metadata": {
        "colab": {
          "base_uri": "https://localhost:8080/"
        },
        "id": "0R2SiIoK3tgi",
        "outputId": "ffb35ed9-8a40-418d-ba8d-46416d30ff74"
      },
      "execution_count": null,
      "outputs": [
        {
          "output_type": "stream",
          "name": "stdout",
          "text": [
            "Logical Operators Demonstration\n",
            "\n",
            "a = True, b = False\n",
            "a and b = False\n",
            "c > d and a = True\n",
            "c < d and a = False\n",
            "\n",
            "a = True, b = False\n",
            "a or b = True\n",
            "c < d or b = False\n",
            "c > d or b = True\n",
            "\n",
            "a = True, b = False\n",
            "not a = False\n",
            "not b = True\n",
            "\n",
            "c > d and (a or b) = True\n",
            "not (c < d or b) = True\n"
          ]
        }
      ]
    },
    {
      "cell_type": "markdown",
      "source": [
        "9.  Write a Python program to convert user input from string to integer, float, and boolean types ?\n",
        "\n"
      ],
      "metadata": {
        "id": "29BXMNLw4agQ"
      }
    },
    {
      "cell_type": "code",
      "source": [
        "def convert_input():\n",
        "    # Get user input as a string\n",
        "    user_input = input(\"Enter a value: \")\n",
        "\n",
        "    # Convert the input to integer (if possible)\n",
        "    try:\n",
        "        int_value = int(user_input)\n",
        "        print(f\"Integer conversion: {int_value}\")\n",
        "    except ValueError:\n",
        "        print(\"Cannot convert to integer.\")\n",
        "\n",
        "    # Convert the input to float (if possible)\n",
        "    try:\n",
        "        float_value = float(user_input)\n",
        "        print(f\"Float conversion: {float_value}\")\n",
        "    except ValueError:\n",
        "        print(\"Cannot convert to float.\")\n",
        "\n",
        "    # Convert the input to boolean\n",
        "    if user_input.lower() in ['true', '1']:\n",
        "        bool_value = True\n",
        "    elif user_input.lower() in ['false', '0']:\n",
        "        bool_value = False\n",
        "    else:\n",
        "        bool_value = bool(user_input)  # Non-empty strings are considered True\n",
        "\n",
        "    print(f\"Boolean conversion: {bool_value}\")\n",
        "\n",
        "\n",
        "# Call the function to demonstrate\n",
        "convert_input()\n"
      ],
      "metadata": {
        "id": "1auyFECq47Fa"
      },
      "execution_count": null,
      "outputs": []
    },
    {
      "cell_type": "markdown",
      "source": [
        "10. Write code to demonstrate type casting with list elements ?"
      ],
      "metadata": {
        "id": "JHJYx2nk5ZQy"
      }
    },
    {
      "cell_type": "code",
      "source": [
        "def demonstrate_type_casting_with_lists():\n",
        "    # A list containing different types of elements (strings, floats, integers)\n",
        "    mixed_list = [\"1\", \"2.5\", \"True\", \"3\", \"4.75\", \"False\"]\n",
        "\n",
        "    print(\"Original List:\", mixed_list)\n",
        "\n",
        "    # Converting all string elements in the list to integers\n",
        "    int_list = [int(item) if item.replace('.', '', 1).isdigit() else item for item in mixed_list]\n",
        "    print(\"List after converting numeric strings to integers:\", int_list)\n",
        "\n",
        "    # Converting all string elements in the list to floats\n",
        "    float_list = [float(item) if item.replace('.', '', 1).isdigit() else item for item in mixed_list]\n",
        "    print(\"List after converting numeric strings to floats:\", float_list)\n",
        "\n",
        "    # Converting string 'True'/'False' to boolean values\n",
        "    bool_list = [True if item.lower() == \"true\" else False if item.lower() == \"false\" else item for item in mixed_list]\n",
        "    print(\"List after converting 'True'/'False' strings to booleans:\", bool_list)\n",
        "\n",
        "    # List after casting all elements to strings (if not already string)\n",
        "    str_list = [str(item) for item in mixed_list]\n",
        "    print(\"List after converting all elements to strings:\", str_list)\n",
        "\n",
        "\n",
        "# Call the function to see the behavior\n",
        "demonstrate_type_casting_with_lists()\n"
      ],
      "metadata": {
        "id": "OFI_tmNI5jKw"
      },
      "execution_count": null,
      "outputs": []
    },
    {
      "cell_type": "markdown",
      "source": [
        "11. Write a program that checks if a number is positive, negative, or zero?"
      ],
      "metadata": {
        "id": "q7uX0Uwv7P9H"
      }
    },
    {
      "cell_type": "code",
      "source": [
        "# Function to check if a number is positive, negative, or zero\n",
        "def check_number(num):\n",
        "    if num > 0:\n",
        "        return \"The number is positive.\"\n",
        "    elif num < 0:\n",
        "        return \"The number is negative.\"\n",
        "    else:\n",
        "        return \"The number is zero.\"\n",
        "\n",
        "# Input from the user\n",
        "number = float(input(\"Enter a number: \"))\n",
        "\n",
        "# Call the function and display the result\n",
        "print(check_number(number))\n"
      ],
      "metadata": {
        "id": "qI-faiuwdLr9"
      },
      "execution_count": null,
      "outputs": []
    },
    {
      "cell_type": "markdown",
      "source": [
        "12.  Write a for loop to print numbers from 1 to 10 ?"
      ],
      "metadata": {
        "id": "dvs8i_hndqBz"
      }
    },
    {
      "cell_type": "code",
      "source": [
        "# For loop to print numbers from 1 to 10\n",
        "for i in range(1, 11):\n",
        "    print(i)\n"
      ],
      "metadata": {
        "id": "T5pdoU5zd98o"
      },
      "execution_count": null,
      "outputs": []
    },
    {
      "cell_type": "markdown",
      "source": [
        "13.  Write a Python program to find the sum of all even numbers between 1 and 50?"
      ],
      "metadata": {
        "id": "AAPvTDQceD5m"
      }
    },
    {
      "cell_type": "code",
      "source": [
        "# Initialize the sum variable\n",
        "sum_of_evens = 0\n",
        "\n",
        "# Loop through numbers from 1 to 50\n",
        "for num in range(1, 51):\n",
        "    if num % 2 == 0:  # Check if the number is even\n",
        "        sum_of_evens += num  # Add the even number to the sum\n",
        "\n",
        "# Print the sum of all even numbers\n",
        "print(\"The sum of all even numbers between 1 and 50 is:\", sum_of_evens)\n"
      ],
      "metadata": {
        "id": "PrHh5lv8eT3n"
      },
      "execution_count": null,
      "outputs": []
    },
    {
      "cell_type": "markdown",
      "source": [
        "14.  Write a program to reverse a string using a while loop?"
      ],
      "metadata": {
        "id": "bHA1JYPIeV6S"
      }
    },
    {
      "cell_type": "code",
      "source": [
        "# Function to reverse a string using a while loop\n",
        "def reverse_string(s):\n",
        "    reversed_str = \"\"  # Initialize an empty string to store the reversed string\n",
        "    index = len(s) - 1  # Start from the last character of the string\n",
        "\n",
        "    # Use a while loop to reverse the string\n",
        "    while index >= 0:\n",
        "        reversed_str += s[index]  # Add the character at the current index to reversed_str\n",
        "        index -= 1  # Move to the previous character\n",
        "\n",
        "    return reversed_str\n",
        "\n",
        "# Input string from the user\n",
        "input_string = input(\"Enter a string to reverse: \")\n",
        "\n",
        "# Call the function and display the result\n",
        "reversed_string = reverse_string(input_string)\n",
        "print(\"Reversed string:\", reversed_string)\n"
      ],
      "metadata": {
        "id": "YTqIZ6-jejJ9"
      },
      "execution_count": null,
      "outputs": []
    },
    {
      "cell_type": "markdown",
      "source": [
        "15.  Write a Python program to calculate the factorial of a number provided by the user using a while loop?"
      ],
      "metadata": {
        "id": "9SOUXoEEelB3"
      }
    },
    {
      "cell_type": "code",
      "source": [
        "# Function to calculate the factorial using a while loop\n",
        "def factorial(n):\n",
        "    result = 1  # Initialize result to 1 (since factorial of 0 and 1 is 1)\n",
        "\n",
        "    while n > 1:\n",
        "        result *= n  # Multiply result by the current number\n",
        "        n -= 1  # Decrease the number by 1\n",
        "\n",
        "    return result\n",
        "\n",
        "# Input from the user\n",
        "number = int(input(\"Enter a number to find its factorial: \"))\n",
        "\n",
        "# Check if the number is non-negative\n",
        "if number < 0:\n",
        "    print(\"Factorial is not defined for negative numbers.\")\n",
        "else:\n",
        "    # Call the function and display the result\n",
        "    print(f\"The factorial of {number} is: {factorial(number)}\")\n"
      ],
      "metadata": {
        "id": "txYv3W0xeyZD"
      },
      "execution_count": null,
      "outputs": []
    }
  ]
}